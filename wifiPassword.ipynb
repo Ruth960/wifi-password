{
 "cells": [
  {
   "cell_type": "code",
   "execution_count": 1,
   "id": "d368a6ec",
   "metadata": {},
   "outputs": [
    {
     "name": "stdout",
     "output_type": "stream",
     "text": [
      "Note: you may need to restart the kernel to use updated packages.\n"
     ]
    },
    {
     "name": "stderr",
     "output_type": "stream",
     "text": [
      "Traceback (most recent call last):\n",
      "  File \"<frozen runpy>\", line 198, in _run_module_as_main\n",
      "  File \"<frozen runpy>\", line 88, in _run_code\n",
      "  File \"c:\\Users\\0000\\anaconda3\\Lib\\site-packages\\pip\\__main__.py\", line 22, in <module>\n",
      "    from pip._internal.cli.main import main as _main\n",
      "  File \"c:\\Users\\0000\\anaconda3\\Lib\\site-packages\\pip\\_internal\\cli\\main.py\", line 10, in <module>\n",
      "    from pip._internal.cli.autocompletion import autocomplete\n",
      "  File \"c:\\Users\\0000\\anaconda3\\Lib\\site-packages\\pip\\_internal\\cli\\autocompletion.py\", line 10, in <module>\n",
      "    from pip._internal.cli.main_parser import create_main_parser\n",
      "  File \"c:\\Users\\0000\\anaconda3\\Lib\\site-packages\\pip\\_internal\\cli\\main_parser.py\", line 9, in <module>\n",
      "    from pip._internal.build_env import get_runnable_pip\n",
      "  File \"c:\\Users\\0000\\anaconda3\\Lib\\site-packages\\pip\\_internal\\build_env.py\", line 19, in <module>\n",
      "    from pip._internal.cli.spinners import open_spinner\n",
      "  File \"c:\\Users\\0000\\anaconda3\\Lib\\site-packages\\pip\\_internal\\cli\\spinners.py\", line 9, in <module>\n",
      "    from pip._internal.utils.logging import get_indentation\n",
      "  File \"c:\\Users\\0000\\anaconda3\\Lib\\site-packages\\pip\\_internal\\utils\\logging.py\", line 29, in <module>\n",
      "    from pip._internal.utils.misc import ensure_dir\n",
      "  File \"c:\\Users\\0000\\anaconda3\\Lib\\site-packages\\pip\\_internal\\utils\\misc.py\", line 40, in <module>\n",
      "    from pip._vendor.tenacity import retry, stop_after_delay, wait_fixed\n",
      "  File \"c:\\Users\\0000\\anaconda3\\Lib\\site-packages\\pip\\_vendor\\tenacity\\__init__.py\", line 548, in <module>\n",
      "    from pip._vendor.tenacity._asyncio import AsyncRetrying  # noqa:E402,I100\n",
      "    ^^^^^^^^^^^^^^^^^^^^^^^^^^^^^^^^^^^^^^^^^^^^^^^^^^^^^^^\n",
      "  File \"c:\\Users\\0000\\anaconda3\\Lib\\site-packages\\pip\\_vendor\\tenacity\\_asyncio.py\", line 21, in <module>\n",
      "    from asyncio import sleep\n",
      "  File \"c:\\Users\\0000\\anaconda3\\Lib\\asyncio\\__init__.py\", line 43, in <module>\n",
      "    from .windows_events import *\n",
      "  File \"c:\\Users\\0000\\anaconda3\\Lib\\asyncio\\windows_events.py\", line 8, in <module>\n",
      "    import _overlapped\n",
      "OSError: [WinError 10106] The requested service provider could not be loaded or initialized\n"
     ]
    }
   ],
   "source": [
    "pip install subprocess"
   ]
  },
  {
   "cell_type": "code",
   "execution_count": null,
   "id": "1a58cb5f",
   "metadata": {},
   "outputs": [],
   "source": [
    "import subprocess\n",
    "\n",
    "#Retrieve Wi-Fi Profiles\n",
    "data = subprocess.check_output(['netsh', 'wlan', 'show', \n",
    "                                'profile']).decode('utf-8').split('\\n')\n",
    "\n",
    "profile = [i.split(\":\")[1][1:-1] for i in data if \"All User Profile\" in i]\n",
    "\n",
    "print(\"\\n{:<30}|{:<}\".format(\"Wi-Fi Name\", \"Password\"))\n",
    "print(\"---------------------------------------------\")\n",
    "#Display Wi-Fi Names and Passwords\n",
    "for i in profile:\n",
    "    try:\n",
    "        results = subprocess.check_output(['netsh', 'wlan', 'show', 'profile', i, 'key=clear']).decode('utf-8').split('\\n')\n",
    "        password = [line.split(\":\")[1][1:-1] for line in results if \"Key Content\" in line]\n",
    "        try:\n",
    "            print(\"{:<30}|{:<}\".format(i, password[0]))\n",
    "        except IndexError:\n",
    "            print(\"{:<30}|{:<}\".format(i, \"\"))\n",
    "    except subprocess.CalledProcessError:\n",
    "        print(\"{:<30}|{:<}\".format(i, \"ENCODING ERROR\"))\n",
    "\n",
    "\n"
   ]
  }
 ],
 "metadata": {
  "kernelspec": {
   "display_name": "base",
   "language": "python",
   "name": "python3"
  },
  "language_info": {
   "codemirror_mode": {
    "name": "ipython",
    "version": 3
   },
   "file_extension": ".py",
   "mimetype": "text/x-python",
   "name": "python",
   "nbconvert_exporter": "python",
   "pygments_lexer": "ipython3",
   "version": "3.12.4"
  }
 },
 "nbformat": 4,
 "nbformat_minor": 5
}
